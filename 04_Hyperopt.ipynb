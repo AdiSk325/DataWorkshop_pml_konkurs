{
 "cells": [
  {
   "cell_type": "markdown",
   "id": "flying-chance",
   "metadata": {},
   "source": [
    "----"
   ]
  },
  {
   "cell_type": "markdown",
   "id": "played-mapping",
   "metadata": {},
   "source": [
    "<html>\n",
    "<center>\n",
    "    <font size=6><b> Konkurs DataWorkshop </b></font> <br> \n",
    "    w ramach 10 edycji kursu \"DS & ML w praktyce\" <br><br>\n",
    "    <b> Przewidywanie emisji CO </b> <br>\n",
    "     3. miejsce <br> <br>\n",
    "    <b> Adrian Skutnik </b>\n",
    "            </center>\n",
    "</html>"
   ]
  },
  {
   "cell_type": "markdown",
   "id": "comfortable-guess",
   "metadata": {},
   "source": [
    "----"
   ]
  },
  {
   "cell_type": "markdown",
   "id": "incorporate-december",
   "metadata": {},
   "source": [
    "## 🗂️ Wczytujemy biblioteki i dane"
   ]
  },
  {
   "cell_type": "code",
   "execution_count": 1,
   "id": "caroline-scanner",
   "metadata": {
    "ExecuteTime": {
     "end_time": "2022-04-03T14:12:24.800103Z",
     "start_time": "2022-04-03T14:12:23.076274Z"
    },
    "scrolled": true
   },
   "outputs": [],
   "source": [
    "import pandas as pd\n",
    "import numpy as np\n",
    "import pandas as pd\n",
    "import matplotlib.pyplot as plt\n",
    "import seaborn as sns\n",
    "import utils as u\n",
    "\n",
    "import xgboost as xgb\n",
    "import catboost as ctb\n",
    "\n",
    "from sklearn.metrics import mean_absolute_error as mae\n",
    "from sklearn.model_selection import train_test_split\n",
    "\n",
    "from functools import partial\n",
    "from hyperopt import hp, fmin, tpe, STATUS_OK, Trials\n",
    "\n",
    "%load_ext autoreload\n",
    "%autoreload 2"
   ]
  },
  {
   "cell_type": "code",
   "execution_count": 2,
   "id": "statistical-appraisal",
   "metadata": {
    "ExecuteTime": {
     "end_time": "2022-04-03T14:12:25.028263Z",
     "start_time": "2022-04-03T14:12:24.836227Z"
    }
   },
   "outputs": [],
   "source": [
    "df_all = u.prepare_data()\n",
    "df_all = u.feature_engeenering(df_all)"
   ]
  },
  {
   "cell_type": "code",
   "execution_count": 3,
   "id": "eligible-primary",
   "metadata": {
    "ExecuteTime": {
     "end_time": "2022-04-03T14:12:25.650121Z",
     "start_time": "2022-04-03T14:12:25.594623Z"
    },
    "scrolled": true
   },
   "outputs": [],
   "source": [
    "df_train, df_test = u.split_data(df_all)"
   ]
  },
  {
   "cell_type": "markdown",
   "id": "temporal-circuit",
   "metadata": {},
   "source": [
    "## CatBoost (selected feats)"
   ]
  },
  {
   "cell_type": "code",
   "execution_count": 9,
   "id": "military-classroom",
   "metadata": {
    "ExecuteTime": {
     "end_time": "2022-04-03T16:17:19.699974Z",
     "start_time": "2022-04-03T14:35:23.309194Z"
    }
   },
   "outputs": [
    {
     "name": "stdout",
     "output_type": "stream",
     "text": [
      "100%|██████████| 50/50 [1:41:56<00:00, 122.33s/trial, best loss: 0.44973903580180946]\n",
      "The best params:  {'n_estimators': 1100.0, 'x_l2_leaf_reg': 2.0391558389346702, 'x_learning_rate': 0.050701938569694155, 'x_max_depth': 15.0}\n"
     ]
    }
   ],
   "source": [
    "def ctb_objective_feats(space):\n",
    "    \n",
    "    X = u.get_X(df_train[u.FEATS])\n",
    "    y = u.get_y(df_train)\n",
    "    X_train, X_test, y_train, y_test = train_test_split(X, y, test_size=0.3)\n",
    "    \n",
    "    \n",
    "    ctb_params = {\n",
    "        'n_estimators': int(space['n_estimators']),\n",
    "        'max_depth': int(space['max_depth']),\n",
    "        'learning_rate': space['learning_rate'],\n",
    "        'l2_leaf_reg': space['l2_leaf_reg'],\n",
    "    }\n",
    "    \n",
    "    model = ctb.CatBoostRegressor(**ctb_params, verbose=0)\n",
    "    model.fit(X_train, y_train)\n",
    "    y_pred = model.predict(X_test)\n",
    "    \n",
    "    score = mae(y_test, y_pred)\n",
    "    \n",
    "    return{'loss':score, 'status': STATUS_OK }\n",
    "\n",
    "space ={\n",
    "    'n_estimators': hp.quniform ('n_estimators', 100, 2000, 100),\n",
    "    'max_depth': hp.quniform ('x_max_depth', 3, 15, 1),\n",
    "    'learning_rate': hp.uniform ('x_learning_rate', 0.005, 0.4),\n",
    "    'l2_leaf_reg': hp.uniform ('x_l2_leaf_reg', 0.2, 3.),\n",
    "}\n",
    "\n",
    "\n",
    "trials = Trials()\n",
    "best_params = fmin(fn=ctb_objective_feats,\n",
    "            space=space,\n",
    "            algo=partial(tpe.suggest, n_startup_jobs=1),\n",
    "            max_evals=50,\n",
    "            trials=trials)\n",
    "\n",
    "print(\"The best params: \", best_params)\n",
    "pd.DataFrame(trials.trials).to_csv('trials_ctb_feats.csv')"
   ]
  }
 ],
 "metadata": {
  "kernelspec": {
   "display_name": "Python 3",
   "language": "python",
   "name": "python3"
  },
  "language_info": {
   "codemirror_mode": {
    "name": "ipython",
    "version": 3
   },
   "file_extension": ".py",
   "mimetype": "text/x-python",
   "name": "python",
   "nbconvert_exporter": "python",
   "pygments_lexer": "ipython3",
   "version": "3.8.6"
  }
 },
 "nbformat": 4,
 "nbformat_minor": 5
}

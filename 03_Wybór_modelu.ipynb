{
 "cells": [
  {
   "cell_type": "markdown",
   "id": "mechanical-february",
   "metadata": {},
   "source": [
    "----"
   ]
  },
  {
   "cell_type": "markdown",
   "id": "soviet-sydney",
   "metadata": {},
   "source": [
    "<html>\n",
    "<center>\n",
    "    <font size=6><b> Konkurs DataWorkshop </b></font> <br> \n",
    "    w ramach 10 edycji kursu \"DS & ML w praktyce\" <br><br>\n",
    "    <b> Przewidywanie emisji CO </b> <br>\n",
    "     3. miejsce <br> <br>\n",
    "    <b> Adrian Skutnik </b>\n",
    "            </center>\n",
    "</html>"
   ]
  },
  {
   "cell_type": "markdown",
   "id": "requested-handy",
   "metadata": {},
   "source": [
    "----"
   ]
  },
  {
   "cell_type": "markdown",
   "id": "blond-thumbnail",
   "metadata": {},
   "source": [
    "## 🗂️ Wczytujemy biblioteki i dane"
   ]
  },
  {
   "cell_type": "code",
   "execution_count": 1,
   "id": "wrapped-wedding",
   "metadata": {
    "ExecuteTime": {
     "end_time": "2022-04-05T04:54:46.539827Z",
     "start_time": "2022-04-05T04:54:44.922529Z"
    },
    "scrolled": true
   },
   "outputs": [],
   "source": [
    "import numpy as np\n",
    "import pandas as pd\n",
    "import utils as u\n",
    "\n",
    "import xgboost as xgb\n",
    "import catboost as ctb\n",
    "\n",
    "%load_ext autoreload\n",
    "%autoreload 2"
   ]
  },
  {
   "cell_type": "code",
   "execution_count": 2,
   "id": "premium-mobile",
   "metadata": {
    "ExecuteTime": {
     "end_time": "2022-04-05T04:54:47.129414Z",
     "start_time": "2022-04-05T04:54:46.921078Z"
    }
   },
   "outputs": [],
   "source": [
    "df_all = u.prepare_data()\n",
    "df_all = u.feature_engeenering(df_all)\n",
    "df_train, df_test = u.split_data(df_all)\n",
    "\n",
    "X = u.get_X(df_train)\n",
    "y = u.get_y(df_train)"
   ]
  },
  {
   "cell_type": "markdown",
   "id": "direct-quick",
   "metadata": {},
   "source": [
    "## Eksperymenty"
   ]
  },
  {
   "cell_type": "markdown",
   "id": "reported-airport",
   "metadata": {},
   "source": [
    "1. Różne modele drzewiaste na niewielkich parametrach (`max_depth=10, n_estimators=200`)    \n",
    "    * Wybór padł na CatBoostRegressor (dawał najlepsze wyniki w porównaniach + stabilność z poprzedniego notebooka)\n",
    "\n",
    "\n",
    "2. Porównanie targetu i `log(target)`. \n",
    "    * `Log(target)` sprawdził się dużo lepiej (0.55 vs 0.50 w pierwszych eksperymentach)\n",
    "\n",
    "\n",
    "3. Różne zestawy cech (od pełnej listy, do selekcji najmocniejszych)\n",
    "    * Finalny model zbudowany na wybranych cechach (odrzucone cechy kategoryczne i \"dzielenie\")"
   ]
  },
  {
   "cell_type": "code",
   "execution_count": 5,
   "id": "substantial-range",
   "metadata": {
    "ExecuteTime": {
     "end_time": "2022-04-05T04:55:03.077404Z",
     "start_time": "2022-04-05T04:55:03.055798Z"
    },
    "scrolled": true
   },
   "outputs": [],
   "source": [
    "# Wszystkie dostępne zmienne, zwykły target\n",
    "u.run(df_train, plot_lc=False, ylim=None, target_log=False)"
   ]
  },
  {
   "cell_type": "code",
   "execution_count": 6,
   "id": "minor-assist",
   "metadata": {
    "ExecuteTime": {
     "end_time": "2022-04-05T04:55:05.854823Z",
     "start_time": "2022-04-05T04:55:05.833225Z"
    }
   },
   "outputs": [],
   "source": [
    "# u.run(df_train, plot_lc=False, ylim=None, target_log=True)"
   ]
  },
  {
   "cell_type": "code",
   "execution_count": null,
   "id": "extended-garlic",
   "metadata": {
    "ExecuteTime": {
     "start_time": "2022-04-03T17:12:15.696Z"
    },
    "scrolled": true
   },
   "outputs": [],
   "source": [
    "feats = ['TIT', 'TEY', 'TAT', 'AFDP', 'AT + NOX', 'TIT - TEY', 'NOX','GTEP', 'AH', 'TAT - TIT', 'AT', 'AP', 'TIT / TEY', 'CDP', 'CO']\n",
    "# u.run(df_train[feats], plot_lc=False, ylim=None, target_log=True)"
   ]
  },
  {
   "cell_type": "code",
   "execution_count": null,
   "id": "alpha-player",
   "metadata": {
    "ExecuteTime": {
     "start_time": "2022-04-03T17:13:49.308Z"
    }
   },
   "outputs": [],
   "source": [
    "feats = ['TIT', 'TEY', 'TAT', 'AFDP', 'AT + NOX', 'TIT - TEY', 'NOX','GTEP', \n",
    "         'AH', 'TAT - TIT', 'AT', 'AP', 'TIT / TEY', 'CDP', 'CO', 'log_TAT', 'log_TIT', 'sqrt_AFDP+NOX']\n",
    "# u.run(df_train[feats], plot_lc=False, ylim=None, target_log=True)\n",
    "# [lgb-10md-200tr]: 0.5092658955903344 +/-0.02186049941165041"
   ]
  },
  {
   "cell_type": "code",
   "execution_count": null,
   "id": "integrated-smooth",
   "metadata": {
    "ExecuteTime": {
     "start_time": "2022-04-03T17:13:49.697Z"
    }
   },
   "outputs": [],
   "source": [
    "feats = ['TIT', 'TEY', 'TAT', 'AFDP', 'AT + NOX', 'TIT - TEY', 'NOX','GTEP',\n",
    "         'AH', 'TAT - TIT', 'AT', 'AP', 'CO', 'log_TAT', 'log_TIT', 'AFDP_NOX']\n",
    "# u.run(df_train[feats], plot_lc=True, ylim=None, target_log=True)\n",
    "# [lgb-10md-200tr]: 0.4570740010048957 +/-0.023046599035362648"
   ]
  },
  {
   "cell_type": "markdown",
   "id": "elder-humanity",
   "metadata": {},
   "source": [
    "## Budowa finalnego modelu i zapis"
   ]
  },
  {
   "cell_type": "code",
   "execution_count": null,
   "id": "fifth-cambridge",
   "metadata": {
    "ExecuteTime": {
     "end_time": "2022-04-03T19:18:34.577148Z",
     "start_time": "2022-04-03T19:05:06.177352Z"
    }
   },
   "outputs": [],
   "source": [
    "ctb_params = {'n_estimators': 1100.0, \n",
    "              'l2_leaf_reg': 2.0391558389346702, \n",
    "              'learning_rate': 0.050701938569694155, \n",
    "              'max_depth': 15.0\n",
    "             }\n",
    "\n",
    "model = ctb.CatBoostRegressor(**ctb_params)\n",
    "\n",
    "y_pred = u.fit_predict_model(model, df_train[u.FEATS], df_test[u.FEATS], target_log=True) \n",
    "df_test.loc[:, 'CO'] = y_pred"
   ]
  },
  {
   "cell_type": "code",
   "execution_count": null,
   "id": "honest-bonus",
   "metadata": {},
   "outputs": [],
   "source": [
    "# model = xgb.XGBRegressor(max_depth=10, n_estimators = 500)\n",
    "# y_pred = u.fit_predict_model(model, df_train, df_test, target_log=True) \n",
    "# df_test.loc[:, 'CO'] = y_pred"
   ]
  },
  {
   "cell_type": "code",
   "execution_count": null,
   "id": "loose-symposium",
   "metadata": {},
   "outputs": [],
   "source": [
    "# !mkdir -p ../output"
   ]
  },
  {
   "cell_type": "markdown",
   "id": "material-inquiry",
   "metadata": {},
   "source": [
    "## ✔️ Zapisujemy wynik do .csv"
   ]
  },
  {
   "cell_type": "code",
   "execution_count": 10,
   "id": "regional-wedding",
   "metadata": {
    "ExecuteTime": {
     "end_time": "2022-04-03T19:18:37.185811Z",
     "start_time": "2022-04-03T19:18:37.090870Z"
    }
   },
   "outputs": [],
   "source": [
    "df_test[ [\"id\", \"CO\"] ].to_csv(\"../output/220403-2110-ctb-15md-1100tr-hp.csv\", index=False)"
   ]
  }
 ],
 "metadata": {
  "kernelspec": {
   "display_name": "Python 3",
   "language": "python",
   "name": "python3"
  },
  "language_info": {
   "codemirror_mode": {
    "name": "ipython",
    "version": 3
   },
   "file_extension": ".py",
   "mimetype": "text/x-python",
   "name": "python",
   "nbconvert_exporter": "python",
   "pygments_lexer": "ipython3",
   "version": "3.8.8"
  },
  "toc": {
   "base_numbering": 1,
   "nav_menu": {},
   "number_sections": true,
   "sideBar": true,
   "skip_h1_title": false,
   "title_cell": "Table of Contents",
   "title_sidebar": "Contents",
   "toc_cell": false,
   "toc_position": {},
   "toc_section_display": true,
   "toc_window_display": false
  }
 },
 "nbformat": 4,
 "nbformat_minor": 5
}
